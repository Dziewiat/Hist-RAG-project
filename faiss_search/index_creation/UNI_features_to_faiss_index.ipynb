{
  "nbformat": 4,
  "nbformat_minor": 0,
  "metadata": {
    "colab": {
      "provenance": [],
      "gpuType": "A100"
    },
    "kernelspec": {
      "name": "python3",
      "display_name": "Python 3"
    },
    "language_info": {
      "name": "python"
    },
    "accelerator": "GPU"
  },
  "cells": [
    {
      "cell_type": "code",
      "execution_count": 2,
      "metadata": {
        "id": "vcSvQQm3jDkM",
        "colab": {
          "base_uri": "https://localhost:8080/"
        },
        "outputId": "1ef9bc99-6747-4207-d1f1-3f3ee6fdaccd"
      },
      "outputs": [
        {
          "output_type": "stream",
          "name": "stdout",
          "text": [
            "Mounted at /content/drive\n"
          ]
        }
      ],
      "source": [
        "from google.colab import drive\n",
        "\n",
        "drive.mount('/content/drive')"
      ]
    },
    {
      "cell_type": "code",
      "source": [
        "!cp /content/drive/MyDrive/features_uni2h.hdf5 /content"
      ],
      "metadata": {
        "id": "kRBbv8GukGE5"
      },
      "execution_count": 3,
      "outputs": []
    },
    {
      "cell_type": "code",
      "source": [
        "import h5py\n",
        "import numpy as np\n",
        "import pandas as pd\n",
        "from tqdm import tqdm\n",
        "\n",
        "hdf5_file = \"features_uni2h.hdf5\"\n",
        "\n",
        "embeddings = []\n",
        "metadata = []\n",
        "\n",
        "with h5py.File(hdf5_file, \"r\") as f:\n",
        "    embedding_index = 0\n",
        "    for category_name in f.keys():\n",
        "        category_group = f[category_name]\n",
        "        for patient_name in tqdm(category_group.keys()):\n",
        "            patient_group = category_group[patient_name]\n",
        "            for embedding_name in patient_group.keys():\n",
        "                embedding_data = patient_group[embedding_name][()]  # load vector as np array\n",
        "\n",
        "                # Store the vector\n",
        "                embeddings.append(embedding_data)\n",
        "\n",
        "                # Store metadata\n",
        "                metadata.append({\n",
        "                    \"index\": embedding_index,\n",
        "                    \"category\": category_name,\n",
        "                    \"patient\": patient_name,\n",
        "                    \"embedding\": embedding_name\n",
        "                })\n",
        "\n",
        "                embedding_index += 1\n",
        "\n",
        "# Convert to numpy + dataframe\n",
        "embeddings = np.array(embeddings)\n",
        "metadata_df = pd.DataFrame(metadata)\n",
        "\n",
        "print(\"Embeddings shape:\", embeddings.shape)\n",
        "print(metadata_df.head())"
      ],
      "metadata": {
        "id": "KnaS0r-Dkb_s",
        "colab": {
          "base_uri": "https://localhost:8080/"
        },
        "outputId": "f5eaed13-bd78-4dd0-c1e7-6058ead545a6"
      },
      "execution_count": 4,
      "outputs": [
        {
          "output_type": "stream",
          "name": "stderr",
          "text": [
            "100%|██████████| 112/112 [01:11<00:00,  1.57it/s]\n",
            "100%|██████████| 666/666 [07:29<00:00,  1.48it/s]\n"
          ]
        },
        {
          "output_type": "stream",
          "name": "stdout",
          "text": [
            "Embeddings shape: (2036270, 1536)\n",
            "   index category                                            patient  \\\n",
            "0      0      MSI  TCGA-5M-AAT6-01Z-00-DX1.8834C952-14E3-4491-815...   \n",
            "1      1      MSI  TCGA-5M-AAT6-01Z-00-DX1.8834C952-14E3-4491-815...   \n",
            "2      2      MSI  TCGA-5M-AAT6-01Z-00-DX1.8834C952-14E3-4491-815...   \n",
            "3      3      MSI  TCGA-5M-AAT6-01Z-00-DX1.8834C952-14E3-4491-815...   \n",
            "4      4      MSI  TCGA-5M-AAT6-01Z-00-DX1.8834C952-14E3-4491-815...   \n",
            "\n",
            "                                embedding  \n",
            "0  TCGA-5M-AAT6-01Z-00-DX1_(100372,12166)  \n",
            "1  TCGA-5M-AAT6-01Z-00-DX1_(100372,13180)  \n",
            "2  TCGA-5M-AAT6-01Z-00-DX1_(100372,14194)  \n",
            "3  TCGA-5M-AAT6-01Z-00-DX1_(100372,15207)  \n",
            "4  TCGA-5M-AAT6-01Z-00-DX1_(100372,16221)  \n"
          ]
        }
      ]
    },
    {
      "cell_type": "code",
      "source": [
        "!pip install faiss-cpu"
      ],
      "metadata": {
        "id": "390_2WCrBx4k",
        "colab": {
          "base_uri": "https://localhost:8080/"
        },
        "outputId": "273bbf27-5b43-42b8-feb8-fa0b7dd9f663"
      },
      "execution_count": 5,
      "outputs": [
        {
          "output_type": "stream",
          "name": "stdout",
          "text": [
            "Collecting faiss-cpu\n",
            "  Downloading faiss_cpu-1.12.0-cp312-cp312-manylinux_2_27_x86_64.manylinux_2_28_x86_64.whl.metadata (5.1 kB)\n",
            "Requirement already satisfied: numpy<3.0,>=1.25.0 in /usr/local/lib/python3.12/dist-packages (from faiss-cpu) (2.0.2)\n",
            "Requirement already satisfied: packaging in /usr/local/lib/python3.12/dist-packages (from faiss-cpu) (25.0)\n",
            "Downloading faiss_cpu-1.12.0-cp312-cp312-manylinux_2_27_x86_64.manylinux_2_28_x86_64.whl (31.4 MB)\n",
            "\u001b[2K   \u001b[90m━━━━━━━━━━━━━━━━━━━━━━━━━━━━━━━━━━━━━━━━\u001b[0m \u001b[32m31.4/31.4 MB\u001b[0m \u001b[31m78.5 MB/s\u001b[0m eta \u001b[36m0:00:00\u001b[0m\n",
            "\u001b[?25hInstalling collected packages: faiss-cpu\n",
            "Successfully installed faiss-cpu-1.12.0\n"
          ]
        }
      ]
    },
    {
      "cell_type": "code",
      "source": [
        "import faiss\n",
        "\n",
        "# Suppose we already have N patch embeddings (dim = D)\n",
        "N, D = embeddings.shape  # number of embeddings, embedding dimension\n",
        "\n",
        "# Normalize embeddings (important for cosine similarity)\n",
        "print(\"Normalizing...\")\n",
        "faiss.normalize_L2(embeddings)\n",
        "\n",
        "# Create FAISS index\n",
        "nlist = 4096   # number of clusters\n",
        "m = 64         # PQ parameter (sub-vector size)\n",
        "nbits = 8\n",
        "\n",
        "quantizer = faiss.IndexFlatIP(D)\n",
        "index = faiss.IndexIVFPQ(quantizer, D, nlist, m, nbits)\n",
        "\n",
        "# Train the index (needed for IVF/PQ)\n",
        "# Training\n",
        "index.train(embeddings)\n",
        "index.add(embeddings)\n",
        "\n",
        "# Save index\n",
        "index_file = \"uni2h_index.faiss\"\n",
        "faiss.write_index(index, index_file)\n",
        "\n",
        "print(\"Index saved to\", index_file)"
      ],
      "metadata": {
        "id": "Ulb4kjbp1MkN",
        "colab": {
          "base_uri": "https://localhost:8080/"
        },
        "outputId": "dfc6b96a-2663-4855-ebfd-5b7f281a972e"
      },
      "execution_count": 6,
      "outputs": [
        {
          "output_type": "stream",
          "name": "stdout",
          "text": [
            "Normalizing...\n",
            "Index saved to uni2h_index.faiss\n"
          ]
        }
      ]
    },
    {
      "cell_type": "code",
      "source": [
        "!mv uni2h_index.faiss /content/drive/MyDrive"
      ],
      "metadata": {
        "id": "LjBehSWLIRVj"
      },
      "execution_count": 7,
      "outputs": []
    },
    {
      "cell_type": "code",
      "source": [
        "metadata_df.to_parquet(\"patch_metadata.parquet\", index=False)"
      ],
      "metadata": {
        "id": "48RpxQLGX4Lv"
      },
      "execution_count": 10,
      "outputs": []
    },
    {
      "cell_type": "code",
      "source": [
        "!mv patch_metadata.parquet /content/drive/MyDrive"
      ],
      "metadata": {
        "id": "InBVDX4WabXZ"
      },
      "execution_count": 11,
      "outputs": []
    }
  ]
}